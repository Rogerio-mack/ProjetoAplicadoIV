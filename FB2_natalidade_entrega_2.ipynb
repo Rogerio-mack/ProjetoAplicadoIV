{
  "cells": [
    {
      "cell_type": "markdown",
      "metadata": {
        "id": "view-in-github",
        "colab_type": "text"
      },
      "source": [
        "<a href=\"https://colab.research.google.com/github/Rogerio-mack/ProjetoAplicadoIV/blob/main/FB2_natalidade_entrega_2.ipynb\" target=\"_parent\"><img src=\"https://colab.research.google.com/assets/colab-badge.svg\" alt=\"Open In Colab\"/></a>"
      ]
    },
    {
      "cell_type": "markdown",
      "metadata": {
        "id": "80CF3Eq9EXDW"
      },
      "source": [
        "  <img src=\"https://github.com/Rogerio-mack/GCF/raw/main/GCF_files/Mackenzie.jpg\" width=\"25%\" align=\"right\"/>\n",
        "\n",
        "  # **PROJETO APLICADO IV - Entrega 2**\n",
        "  \n",
        "  <br>\n",
        "  <br>\n",
        "  \n"
      ]
    },
    {
      "cell_type": "markdown",
      "metadata": {
        "id": "40b90843"
      },
      "source": [
        "# **Impacto da Baixa Taxa de Natalidade na Previdência Social: Um Desafio para o Futuro**\n",
        "---\n"
      ]
    },
    {
      "cell_type": "code",
      "execution_count": 1,
      "metadata": {
        "cellView": "form",
        "id": "rYx9D4GZA5o9"
      },
      "outputs": [],
      "source": [
        "#@title **Identificação do Grupo e Opção do Projeto**\n",
        "\n",
        "#@markdown Integrantes do Grupo, nome completo em ordem alfabética (*informe: \\<nome\\>, \\<matrícula\\>*)\n",
        "Aluno1 = 'Douglas Pereira de Araújo, RA 10370116' #@param {type:\"string\"}\n",
        "Aluno2 = 'Gabriel Sicari Moretti, RA 10369848' #@param {type:\"string\"}\n",
        "Aluno3 = 'João Vitor da Silva Pereira, RA 10369433' #@param {type:\"string\"}\n",
        "Aluno4 = 'Matheus Aparecido Ramos Lourenço, RA 10368895' #@param {type:\"string\"}\n",
        "Aluno5 = 'Rafael Castro dos Santos, RA 10368801' #@param {type:\"string\"}"
      ]
    },
    {
      "cell_type": "markdown",
      "metadata": {
        "id": "JlCIc2YooBW7"
      },
      "source": [
        "# **Resumo**\n",
        "\n",
        "Este projeto se baseia em dados públicos onde poderemos analisar as taxas de natalidade e mortalidade para criar uma análise Preditiva, com intuito de encontrar impactos na Previdência Social.\n",
        "\n",
        "Nestes projetos queremos resolver um problema futuro, onde nossa ideia é analisar as taxas de mortalidade e natalidade, para prever o impacto na sustentabilidade da previdência social até o ano de 2050.\n",
        "\n",
        "Entendemos que com essa análise conseguiremos antecipar os desafios econômicos e sociais.\n",
        "\n",
        "Propondo soluções para a gestão da aposentadoria em um contexto de mudanças demográficas, utilizaremos uma abordagem analítica preditiva, empregando técnicas de modelagem estatística e aprendizado de máquina, para analisar tendências históricas e projetar cenários futuros."
      ]
    },
    {
      "cell_type": "markdown",
      "metadata": {
        "id": "A4-f8AtfKAn2"
      },
      "source": [
        "# **Fonte dos Dados**\n",
        "\n",
        "\n",
        "Os dados sobre projeção da população são obtidos através do Instituto Brasileiro de Geografia e Estatística (IBGE), uma instituição governamental responsável pela produção e análise de estatísticas no Brasil.\n",
        "\n",
        "As projeções populacionais fornecem estimativas do tamanho e da estrutura etária da população brasileira para os anos futuros, baseadas em dados demográficos históricos e em modelos estatísticos.\n",
        "As tabelas analisadas são:\n",
        "* Projeções da população por sexo e idades\n",
        "* Tábuas de Mortalidade 2010/2060\n",
        "\n",
        "Link: https://www.ibge.gov.br/estatisticas/sociais/populacao/9109-projecao-da-populacao.html\n",
        "\n",
        "\n",
        "\n",
        "\n",
        "Os dados fornecidos pela Previdência Social do Brasil apresentam os resultados do Regime Geral de Previdência Social (RGPS), abrangendo informações sobre benefícios concedidos, arrecadação, despesas e saldo do sistema previdenciário.\n",
        "\n",
        "Link público:\n",
        "https://www.gov.br/previdencia/pt-br/assuntos/previdencia-social/resultados-do-rgps\n",
        "\n",
        "\n"
      ]
    },
    {
      "cell_type": "markdown",
      "metadata": {
        "id": "jx4u5FY-6UEp"
      },
      "source": [
        "# **Introdução**\n",
        "\n",
        "Introdução\n",
        "A previdência social é fundamental na estrutura de segurança social de qualquer nação, oferecendo proteção contra os riscos financeiros associados à velhice, incapacidade e perda de renda. Porém, este sistema enfrenta uma ameaça significativa devido às tendências demográficas em curso, em particular a baixa taxa de natalidade. Esta tendência tem implicações profundas não apenas para a dinâmica populacional, mas também para a viabilidade econômica dos sistemas previdenciários.\n"
      ]
    },
    {
      "cell_type": "markdown",
      "metadata": {
        "id": "RI5D9ClMzfb3"
      },
      "source": [
        "![image.png](attachment:image.png)\n",
        "![image-2.png](attachment:image-2.png)"
      ]
    },
    {
      "cell_type": "markdown",
      "metadata": {
        "id": "m-9Z0Z6Uzfb3"
      },
      "source": [
        "À medida que entramos em uma era de mudanças demográficas, com as taxas de natalidade caindo abaixo dos níveis de reposição em muitos países, enfrentamos um desafio inédito: a sustentabilidade de longo prazo da previdência social. A projeção de população futura, considerando as taxas de mortalidade e natalidade atuais e futuras, é um exercício essencial para compreender e antecipar as pressões que o sistema previdenciário sofrerá até o ano de 2050.\n",
        "  \n"
      ]
    },
    {
      "cell_type": "markdown",
      "metadata": {
        "id": "tNb4H0COzfb3"
      },
      "source": [
        "![image.png](attachment:image.png)\n",
        "![image-2.png](attachment:image-2.png)"
      ]
    },
    {
      "cell_type": "markdown",
      "metadata": {
        "id": "WTBII4bhzfb3"
      },
      "source": [
        "Neste contexto, vamos examinar como a diminuição das taxas de natalidade influenciará a razão de dependência — a proporção de pessoas não trabalhadoras (jovens e idosos) em relação àquelas em idade ativa — e o que isso significa para o financiamento da previdência social. Tais questões envolvem fatores econômicos, sociais e políticos que vão desde as políticas de incentivo à natalidade até a reforma das estruturas de previdência e aposentadoria.\n",
        "\n",
        "Este projeto visa explorar o impacto potencial das taxas de natalidade persistentemente baixas na sustentabilidade da previdência social, analisando os dados atuais e projeções até 2050. Vamos trabalhar em cima das tendências demográficas e suas implicações para o futuro, proporcionando uma visão abrangente das possíveis rotas que as políticas previdenciárias podem tomar para enfrentar esse desafio iminente."
      ]
    },
    {
      "cell_type": "markdown",
      "metadata": {
        "id": "5t_X-um-7n1T"
      },
      "source": [
        "# **Referencial Teórico**\n",
        "\n",
        "Trabalhos Correlacionados e Alternativas de Solução\n",
        "\n",
        "O fenômeno do envelhecimento populacional e suas repercussões no sistema de previdência social têm sido objeto de estudo em diversas disciplinas, incluindo economia, demografia e políticas públicas. Lee e Mason (2010) exploram em detalhes a dinâmica da transição demográfica e a sustentabilidade fiscal dos sistemas previdenciários, destacando a importância do equilíbrio entre as taxas de natalidade e as obrigações previdenciárias. Uma das soluções propostas é a implementação de políticas que promovam o aumento da taxa de natalidade, como incentivos financeiros e subsídios para famílias com crianças, algo que tem sido tentado em países como Japão e Alemanha (OECD, 2017).\n",
        "\n",
        "Outra alternativa inclui a reforma dos sistemas de previdência para adaptá-los à nova realidade demográfica. Por exemplo, a Suécia reformou seu sistema de previdência, introduzindo um modelo de contas individuais de contribuição definida, que se ajustam automaticamente à expectativa de vida (Palmer, 2000). Embora essa solução tenha aumentado a sustentabilidade do sistema, ela também transferiu uma maior responsabilidade para os indivíduos no planejamento de sua aposentadoria.\n",
        "\n",
        "Principais Conceitos Envolvidos\n",
        "\n",
        "Os principais conceitos envolvidos na análise do impacto da baixa taxa de natalidade na previdência social incluem a razão de dependência, que é a relação entre a população não produtiva (idosos e jovens) e a população produtiva (em idade de trabalhar), e a taxa de substituição, que indica a proporção do salário de um trabalhador que é substituído pela pensão de aposentadoria (Bloom, Canning, & Sevilla, 2003).\n",
        "\n"
      ]
    },
    {
      "cell_type": "markdown",
      "metadata": {
        "id": "mLIXqlmC9gu_"
      },
      "source": [
        "# **Diagrama de Solução**\n",
        "![mack.drawio.png](attachment:mack.drawio.png)\n"
      ]
    },
    {
      "cell_type": "markdown",
      "metadata": {
        "id": "P_HStQXL9qdY"
      },
      "source": [
        "# **Cronograma**\n",
        "\n",
        "\n",
        "|PERÍODO |\tDESCRIÇÃO DA ATIVIDADE\t| STATUS  |\n",
        "|:------:|:------------------------:|:-------:|\n",
        "|De 26/02 a 01/03 |\tDefinição do grupo\t|\tConcluído\t|\n",
        "|De 01/03 a 04/03 |\tDefinição do tema\t|\tConcluído\t|\n",
        "|De 04/03 a 04/03 |\tDesenvolvimento da primeira entrega\t|\tConcluído\t|\n",
        "|Dia 10/03\t| Entrega do Aplicando Conhecimento 1\t|\tConcluído\t|\n",
        "|Dia 11/03\t| Desenvolvimento da segunda entrega\t|\tConcluído\t|\n",
        "|De 11/03 à 12/03\t| Descrever sumariamente os dados e sua fonte\t|\tConcluído\t|\n",
        "|De 12/03 a 13/03\t|Detalhar o problema proposto junto aos objetivos das ODS\t| Concluído\t|\n",
        "|De 13/03 a 14/03\t|\tCriação do Diagrama de Solução\t|\tConcluído |\n",
        "|De 25/03 a 26/03\t|\tAtualização do repositório, projeto e documentos\t|\tConcluído\t|\n",
        "|Dia 07/04\t|\tEntrega do Aplicando Conhecimento 2\t\t| Concluído\t|\n",
        "|Dia  15/04\t\t|Desenvolvimento da terceira entrega\t|\tNão iniciado\t|\n",
        "|De 15/03 a 20/04\t|\tExploração e análise inicial dos dados\t|\tNão iniciado |\n",
        "|De 20/04 a 25/04\t|\tAplicação de ao menos um primeiro modelo base\t\t| Não iniciado |\n",
        "|De 25/04 a 26/04\t|\tAtualização do repositório, projeto e documentos\t\t| Não iniciado\t|\n",
        "|Dia 05/05\t\t|Entrega do Aplicando Conhecimento 3\t|\tNão iniciado\t|\n",
        "|De 07/05 a 15/05\t|\tDesenvolvimento de 1 ou mais modelos\t|\tNão iniciado\t|\n",
        "|De 15/05 a 20/05\t|\tApresentação de Resultados\t|\tNão iniciado\t|\n",
        "|De 20/05 a 24/05\t|\tConclusões; análise crítica do trabalho (suas qualidades e limitações)\t|\tNão iniciado\t|\n",
        "|       Dia 29/05 e 30/05\t|\tEntrega do Aplicando Conhecimento 4\t\t|Não iniciado\t|\n"
      ]
    },
    {
      "cell_type": "markdown",
      "metadata": {
        "id": "kZ9OW5ExtM8G"
      },
      "source": [
        "\n",
        "\n",
        "# **Referências**\n",
        "\n",
        "\n",
        "[1] Costa, Cássia Kely Favoretto.  Nome. Envelhecimento populacional e a necessidade de reforma da saúde pública e da previdência social brasileiras. A Economia em Revista. Maringá, PR. Vol. 19, n. 2 (dez. 2011), p. 121-131. Disponível em: https://lume.ufrgs.br/handle/10183/205087. Acesso em: 06/04/2024\n",
        "\n",
        "[2] Cavalcante, Priscilla Raisa Gama, Bruna. Polemica- A necessidade da reforma da previdência social: O deficit nos cofres públicos e a taxa de natalidade a luz da PEC 287/2016. NÁPOLIS-GO.\n",
        "Disponível em: http://repositorio.aee.edu.br/handle/aee/1191. Acesso em: 06/04/2024\n",
        "\n",
        "[3] Caetano, Marcelo. Envelhecimento da População e seguridade social. Coleção previdência Social, volume 37, 2018.\n",
        "Disponível em: http://sa.previdencia.gov.br/site/2018/06/colprev37.pdf. Acesso em: 06/04/2024\n",
        "\n",
        "[4] Vasconcelos, Alexandre. TRANSIÇÃO DEMOGRÁFICA NO BRASIL E O IMPACTO NA PREVIDÊNCIA SOCIAL. Boletim Economia Empírica, volume 1, número 2. Disponível em:\n",
        "https://www.portaldeperiodicos.idp.edu.br/bee/article/view/4112/1787. Acesso em: 06/04/2024\n",
        "\n",
        "\n"
      ]
    },
    {
      "cell_type": "code",
      "execution_count": null,
      "metadata": {
        "id": "MHI073gWzfb4"
      },
      "outputs": [],
      "source": [
        "import numpy"
      ]
    },
    {
      "cell_type": "code",
      "execution_count": 2,
      "metadata": {
        "cellView": "form",
        "id": "BluFtfHuCGzm"
      },
      "outputs": [],
      "source": [
        "#@title **Avaliação**\n",
        "Introducao = 10 #@param {type:\"slider\", min:0, max:10, step:1}\n",
        "\n",
        "Referencial_teorico = 4 #@param {type:\"slider\", min:0, max:10, step:1}\n",
        "\n",
        "Diagrama_solucao = 4 #@param {type:\"slider\", min:0, max:10, step:1}\n",
        "\n",
        "Cronograma = 4 #@param {type:\"slider\", min:0, max:10, step:1}\n",
        "\n"
      ]
    },
    {
      "cell_type": "code",
      "execution_count": 3,
      "metadata": {
        "cellView": "form",
        "colab": {
          "base_uri": "https://localhost:8080/",
          "height": 243
        },
        "id": "2Gqw7hUZHyle",
        "outputId": "d5449e68-dd98-40ff-fb6c-b396b5d325d0"
      },
      "outputs": [
        {
          "output_type": "stream",
          "name": "stdout",
          "text": [
            "Nota final do trabalho 5.5\n",
            "\n"
          ]
        },
        {
          "output_type": "display_data",
          "data": {
            "text/plain": [
              "                               nome  nota\n",
              "0         Douglas Pereira de Araújo   5.5\n",
              "1            Gabriel Sicari Moretti   5.5\n",
              "2       João Vitor da Silva Pereira   5.5\n",
              "3  Matheus Aparecido Ramos Lourenço   5.5\n",
              "4          Rafael Castro dos Santos   5.5"
            ],
            "text/html": [
              "\n",
              "  <div id=\"df-d88d8f20-82ab-46c1-ab94-a003444bb5aa\" class=\"colab-df-container\">\n",
              "    <div>\n",
              "<style scoped>\n",
              "    .dataframe tbody tr th:only-of-type {\n",
              "        vertical-align: middle;\n",
              "    }\n",
              "\n",
              "    .dataframe tbody tr th {\n",
              "        vertical-align: top;\n",
              "    }\n",
              "\n",
              "    .dataframe thead th {\n",
              "        text-align: right;\n",
              "    }\n",
              "</style>\n",
              "<table border=\"1\" class=\"dataframe\">\n",
              "  <thead>\n",
              "    <tr style=\"text-align: right;\">\n",
              "      <th></th>\n",
              "      <th>nome</th>\n",
              "      <th>nota</th>\n",
              "    </tr>\n",
              "  </thead>\n",
              "  <tbody>\n",
              "    <tr>\n",
              "      <th>0</th>\n",
              "      <td>Douglas Pereira de Araújo</td>\n",
              "      <td>5.5</td>\n",
              "    </tr>\n",
              "    <tr>\n",
              "      <th>1</th>\n",
              "      <td>Gabriel Sicari Moretti</td>\n",
              "      <td>5.5</td>\n",
              "    </tr>\n",
              "    <tr>\n",
              "      <th>2</th>\n",
              "      <td>João Vitor da Silva Pereira</td>\n",
              "      <td>5.5</td>\n",
              "    </tr>\n",
              "    <tr>\n",
              "      <th>3</th>\n",
              "      <td>Matheus Aparecido Ramos Lourenço</td>\n",
              "      <td>5.5</td>\n",
              "    </tr>\n",
              "    <tr>\n",
              "      <th>4</th>\n",
              "      <td>Rafael Castro dos Santos</td>\n",
              "      <td>5.5</td>\n",
              "    </tr>\n",
              "  </tbody>\n",
              "</table>\n",
              "</div>\n",
              "    <div class=\"colab-df-buttons\">\n",
              "\n",
              "  <div class=\"colab-df-container\">\n",
              "    <button class=\"colab-df-convert\" onclick=\"convertToInteractive('df-d88d8f20-82ab-46c1-ab94-a003444bb5aa')\"\n",
              "            title=\"Convert this dataframe to an interactive table.\"\n",
              "            style=\"display:none;\">\n",
              "\n",
              "  <svg xmlns=\"http://www.w3.org/2000/svg\" height=\"24px\" viewBox=\"0 -960 960 960\">\n",
              "    <path d=\"M120-120v-720h720v720H120Zm60-500h600v-160H180v160Zm220 220h160v-160H400v160Zm0 220h160v-160H400v160ZM180-400h160v-160H180v160Zm440 0h160v-160H620v160ZM180-180h160v-160H180v160Zm440 0h160v-160H620v160Z\"/>\n",
              "  </svg>\n",
              "    </button>\n",
              "\n",
              "  <style>\n",
              "    .colab-df-container {\n",
              "      display:flex;\n",
              "      gap: 12px;\n",
              "    }\n",
              "\n",
              "    .colab-df-convert {\n",
              "      background-color: #E8F0FE;\n",
              "      border: none;\n",
              "      border-radius: 50%;\n",
              "      cursor: pointer;\n",
              "      display: none;\n",
              "      fill: #1967D2;\n",
              "      height: 32px;\n",
              "      padding: 0 0 0 0;\n",
              "      width: 32px;\n",
              "    }\n",
              "\n",
              "    .colab-df-convert:hover {\n",
              "      background-color: #E2EBFA;\n",
              "      box-shadow: 0px 1px 2px rgba(60, 64, 67, 0.3), 0px 1px 3px 1px rgba(60, 64, 67, 0.15);\n",
              "      fill: #174EA6;\n",
              "    }\n",
              "\n",
              "    .colab-df-buttons div {\n",
              "      margin-bottom: 4px;\n",
              "    }\n",
              "\n",
              "    [theme=dark] .colab-df-convert {\n",
              "      background-color: #3B4455;\n",
              "      fill: #D2E3FC;\n",
              "    }\n",
              "\n",
              "    [theme=dark] .colab-df-convert:hover {\n",
              "      background-color: #434B5C;\n",
              "      box-shadow: 0px 1px 3px 1px rgba(0, 0, 0, 0.15);\n",
              "      filter: drop-shadow(0px 1px 2px rgba(0, 0, 0, 0.3));\n",
              "      fill: #FFFFFF;\n",
              "    }\n",
              "  </style>\n",
              "\n",
              "    <script>\n",
              "      const buttonEl =\n",
              "        document.querySelector('#df-d88d8f20-82ab-46c1-ab94-a003444bb5aa button.colab-df-convert');\n",
              "      buttonEl.style.display =\n",
              "        google.colab.kernel.accessAllowed ? 'block' : 'none';\n",
              "\n",
              "      async function convertToInteractive(key) {\n",
              "        const element = document.querySelector('#df-d88d8f20-82ab-46c1-ab94-a003444bb5aa');\n",
              "        const dataTable =\n",
              "          await google.colab.kernel.invokeFunction('convertToInteractive',\n",
              "                                                    [key], {});\n",
              "        if (!dataTable) return;\n",
              "\n",
              "        const docLinkHtml = 'Like what you see? Visit the ' +\n",
              "          '<a target=\"_blank\" href=https://colab.research.google.com/notebooks/data_table.ipynb>data table notebook</a>'\n",
              "          + ' to learn more about interactive tables.';\n",
              "        element.innerHTML = '';\n",
              "        dataTable['output_type'] = 'display_data';\n",
              "        await google.colab.output.renderOutput(dataTable, element);\n",
              "        const docLink = document.createElement('div');\n",
              "        docLink.innerHTML = docLinkHtml;\n",
              "        element.appendChild(docLink);\n",
              "      }\n",
              "    </script>\n",
              "  </div>\n",
              "\n",
              "\n",
              "<div id=\"df-2310a401-3c08-4f33-904a-057c96305c23\">\n",
              "  <button class=\"colab-df-quickchart\" onclick=\"quickchart('df-2310a401-3c08-4f33-904a-057c96305c23')\"\n",
              "            title=\"Suggest charts\"\n",
              "            style=\"display:none;\">\n",
              "\n",
              "<svg xmlns=\"http://www.w3.org/2000/svg\" height=\"24px\"viewBox=\"0 0 24 24\"\n",
              "     width=\"24px\">\n",
              "    <g>\n",
              "        <path d=\"M19 3H5c-1.1 0-2 .9-2 2v14c0 1.1.9 2 2 2h14c1.1 0 2-.9 2-2V5c0-1.1-.9-2-2-2zM9 17H7v-7h2v7zm4 0h-2V7h2v10zm4 0h-2v-4h2v4z\"/>\n",
              "    </g>\n",
              "</svg>\n",
              "  </button>\n",
              "\n",
              "<style>\n",
              "  .colab-df-quickchart {\n",
              "      --bg-color: #E8F0FE;\n",
              "      --fill-color: #1967D2;\n",
              "      --hover-bg-color: #E2EBFA;\n",
              "      --hover-fill-color: #174EA6;\n",
              "      --disabled-fill-color: #AAA;\n",
              "      --disabled-bg-color: #DDD;\n",
              "  }\n",
              "\n",
              "  [theme=dark] .colab-df-quickchart {\n",
              "      --bg-color: #3B4455;\n",
              "      --fill-color: #D2E3FC;\n",
              "      --hover-bg-color: #434B5C;\n",
              "      --hover-fill-color: #FFFFFF;\n",
              "      --disabled-bg-color: #3B4455;\n",
              "      --disabled-fill-color: #666;\n",
              "  }\n",
              "\n",
              "  .colab-df-quickchart {\n",
              "    background-color: var(--bg-color);\n",
              "    border: none;\n",
              "    border-radius: 50%;\n",
              "    cursor: pointer;\n",
              "    display: none;\n",
              "    fill: var(--fill-color);\n",
              "    height: 32px;\n",
              "    padding: 0;\n",
              "    width: 32px;\n",
              "  }\n",
              "\n",
              "  .colab-df-quickchart:hover {\n",
              "    background-color: var(--hover-bg-color);\n",
              "    box-shadow: 0 1px 2px rgba(60, 64, 67, 0.3), 0 1px 3px 1px rgba(60, 64, 67, 0.15);\n",
              "    fill: var(--button-hover-fill-color);\n",
              "  }\n",
              "\n",
              "  .colab-df-quickchart-complete:disabled,\n",
              "  .colab-df-quickchart-complete:disabled:hover {\n",
              "    background-color: var(--disabled-bg-color);\n",
              "    fill: var(--disabled-fill-color);\n",
              "    box-shadow: none;\n",
              "  }\n",
              "\n",
              "  .colab-df-spinner {\n",
              "    border: 2px solid var(--fill-color);\n",
              "    border-color: transparent;\n",
              "    border-bottom-color: var(--fill-color);\n",
              "    animation:\n",
              "      spin 1s steps(1) infinite;\n",
              "  }\n",
              "\n",
              "  @keyframes spin {\n",
              "    0% {\n",
              "      border-color: transparent;\n",
              "      border-bottom-color: var(--fill-color);\n",
              "      border-left-color: var(--fill-color);\n",
              "    }\n",
              "    20% {\n",
              "      border-color: transparent;\n",
              "      border-left-color: var(--fill-color);\n",
              "      border-top-color: var(--fill-color);\n",
              "    }\n",
              "    30% {\n",
              "      border-color: transparent;\n",
              "      border-left-color: var(--fill-color);\n",
              "      border-top-color: var(--fill-color);\n",
              "      border-right-color: var(--fill-color);\n",
              "    }\n",
              "    40% {\n",
              "      border-color: transparent;\n",
              "      border-right-color: var(--fill-color);\n",
              "      border-top-color: var(--fill-color);\n",
              "    }\n",
              "    60% {\n",
              "      border-color: transparent;\n",
              "      border-right-color: var(--fill-color);\n",
              "    }\n",
              "    80% {\n",
              "      border-color: transparent;\n",
              "      border-right-color: var(--fill-color);\n",
              "      border-bottom-color: var(--fill-color);\n",
              "    }\n",
              "    90% {\n",
              "      border-color: transparent;\n",
              "      border-bottom-color: var(--fill-color);\n",
              "    }\n",
              "  }\n",
              "</style>\n",
              "\n",
              "  <script>\n",
              "    async function quickchart(key) {\n",
              "      const quickchartButtonEl =\n",
              "        document.querySelector('#' + key + ' button');\n",
              "      quickchartButtonEl.disabled = true;  // To prevent multiple clicks.\n",
              "      quickchartButtonEl.classList.add('colab-df-spinner');\n",
              "      try {\n",
              "        const charts = await google.colab.kernel.invokeFunction(\n",
              "            'suggestCharts', [key], {});\n",
              "      } catch (error) {\n",
              "        console.error('Error during call to suggestCharts:', error);\n",
              "      }\n",
              "      quickchartButtonEl.classList.remove('colab-df-spinner');\n",
              "      quickchartButtonEl.classList.add('colab-df-quickchart-complete');\n",
              "    }\n",
              "    (() => {\n",
              "      let quickchartButtonEl =\n",
              "        document.querySelector('#df-2310a401-3c08-4f33-904a-057c96305c23 button');\n",
              "      quickchartButtonEl.style.display =\n",
              "        google.colab.kernel.accessAllowed ? 'block' : 'none';\n",
              "    })();\n",
              "  </script>\n",
              "</div>\n",
              "\n",
              "  <div id=\"id_7c862427-5728-49a1-b1ef-0c58c4b541c3\">\n",
              "    <style>\n",
              "      .colab-df-generate {\n",
              "        background-color: #E8F0FE;\n",
              "        border: none;\n",
              "        border-radius: 50%;\n",
              "        cursor: pointer;\n",
              "        display: none;\n",
              "        fill: #1967D2;\n",
              "        height: 32px;\n",
              "        padding: 0 0 0 0;\n",
              "        width: 32px;\n",
              "      }\n",
              "\n",
              "      .colab-df-generate:hover {\n",
              "        background-color: #E2EBFA;\n",
              "        box-shadow: 0px 1px 2px rgba(60, 64, 67, 0.3), 0px 1px 3px 1px rgba(60, 64, 67, 0.15);\n",
              "        fill: #174EA6;\n",
              "      }\n",
              "\n",
              "      [theme=dark] .colab-df-generate {\n",
              "        background-color: #3B4455;\n",
              "        fill: #D2E3FC;\n",
              "      }\n",
              "\n",
              "      [theme=dark] .colab-df-generate:hover {\n",
              "        background-color: #434B5C;\n",
              "        box-shadow: 0px 1px 3px 1px rgba(0, 0, 0, 0.15);\n",
              "        filter: drop-shadow(0px 1px 2px rgba(0, 0, 0, 0.3));\n",
              "        fill: #FFFFFF;\n",
              "      }\n",
              "    </style>\n",
              "    <button class=\"colab-df-generate\" onclick=\"generateWithVariable('alunos')\"\n",
              "            title=\"Generate code using this dataframe.\"\n",
              "            style=\"display:none;\">\n",
              "\n",
              "  <svg xmlns=\"http://www.w3.org/2000/svg\" height=\"24px\"viewBox=\"0 0 24 24\"\n",
              "       width=\"24px\">\n",
              "    <path d=\"M7,19H8.4L18.45,9,17,7.55,7,17.6ZM5,21V16.75L18.45,3.32a2,2,0,0,1,2.83,0l1.4,1.43a1.91,1.91,0,0,1,.58,1.4,1.91,1.91,0,0,1-.58,1.4L9.25,21ZM18.45,9,17,7.55Zm-12,3A5.31,5.31,0,0,0,4.9,8.1,5.31,5.31,0,0,0,1,6.5,5.31,5.31,0,0,0,4.9,4.9,5.31,5.31,0,0,0,6.5,1,5.31,5.31,0,0,0,8.1,4.9,5.31,5.31,0,0,0,12,6.5,5.46,5.46,0,0,0,6.5,12Z\"/>\n",
              "  </svg>\n",
              "    </button>\n",
              "    <script>\n",
              "      (() => {\n",
              "      const buttonEl =\n",
              "        document.querySelector('#id_7c862427-5728-49a1-b1ef-0c58c4b541c3 button.colab-df-generate');\n",
              "      buttonEl.style.display =\n",
              "        google.colab.kernel.accessAllowed ? 'block' : 'none';\n",
              "\n",
              "      buttonEl.onclick = () => {\n",
              "        google.colab.notebook.generateWithVariable('alunos');\n",
              "      }\n",
              "      })();\n",
              "    </script>\n",
              "  </div>\n",
              "\n",
              "    </div>\n",
              "  </div>\n"
            ],
            "application/vnd.google.colaboratory.intrinsic+json": {
              "type": "dataframe",
              "variable_name": "alunos",
              "summary": "{\n  \"name\": \"alunos\",\n  \"rows\": 5,\n  \"fields\": [\n    {\n      \"column\": \"nome\",\n      \"properties\": {\n        \"dtype\": \"string\",\n        \"num_unique_values\": 5,\n        \"samples\": [\n          \"Gabriel Sicari Moretti\",\n          \"Rafael Castro dos Santos\",\n          \"Jo\\u00e3o Vitor da Silva Pereira\"\n        ],\n        \"semantic_type\": \"\",\n        \"description\": \"\"\n      }\n    },\n    {\n      \"column\": \"nota\",\n      \"properties\": {\n        \"dtype\": \"number\",\n        \"std\": 0.0,\n        \"min\": 5.5,\n        \"max\": 5.5,\n        \"num_unique_values\": 1,\n        \"samples\": [\n          5.5\n        ],\n        \"semantic_type\": \"\",\n        \"description\": \"\"\n      }\n    }\n  ]\n}"
            }
          },
          "metadata": {}
        }
      ],
      "source": [
        "#@title **Nota Final**\n",
        "nota = 0.25*Introducao + 0.25*Referencial_teorico + 0.3*Diagrama_solucao + 0.2*Cronograma\n",
        "\n",
        "print(f'Nota final do trabalho {nota :.1f}')\n",
        "\n",
        "import numpy as np\n",
        "import pandas as pd\n",
        "\n",
        "alunos = pd.DataFrame()\n",
        "\n",
        "lista_nome = []\n",
        "\n",
        "for i in range(1,6):\n",
        "  exec(\"if Aluno\" + str(i) + \" !='None':  lista = Aluno\" + str(i) + \".split(','); lista_nome.append(lista[0]);\")\n",
        "\n",
        "alunos['nome'] = lista_nome\n",
        "alunos['nota'] = np.round(nota,1)\n",
        "print()\n",
        "display(alunos)"
      ]
    },
    {
      "cell_type": "markdown",
      "source": [
        "# Comentários\n",
        "\n",
        "Me preocupa o que de fato vão fazer. Vocês tem um tema relevante, mas não indicam aqui claramente o que vão fazer os dados.\n",
        "Isso precisaria estar claro já nesta fase. A metodologia que apresentam é o fluxo genérico. Vejam que vocês\n",
        "não vão implantar políticas de incentivo a natalidade ou reforma no sistema previdenciário como colocam no\n",
        "final do diagrama. O trabalho é um trabalho com dados, qual a metodologia que vão aplicar e resultados esperados?\n",
        "É isso que deveria estar no referêncial teórico indicando ainda trabalhos correlatos (semelhantes, próximos) ao que pretendem fazer.\n",
        "\n",
        "Estão muito focados no 'domínio' do problema, sem qualquer foco na solução (técnicas e modelos que vão empregar, resultado esperado etc.). Isso compromete bastante toda essa entrega.\n",
        "\n",
        "Além disso é esperado um maior cuidado com o texto. Por exemplo o resumo, acho que já havia comentado é um parágrafo único,\n",
        "e uma frase como \"Nestes projetos queremo...\" não parece correta.\n",
        "\n",
        "Por algum motivo o Colab postado não deu acesso às imagens e tive que acessar o GitHub diretamente para poder ver as figuras do texto.\n"
      ],
      "metadata": {
        "id": "gN3aSf-X3EOJ"
      }
    }
  ],
  "metadata": {
    "colab": {
      "provenance": [],
      "include_colab_link": true
    },
    "kernelspec": {
      "display_name": "Python 3",
      "language": "python",
      "name": "python3"
    },
    "language_info": {
      "codemirror_mode": {
        "name": "ipython",
        "version": 3
      },
      "file_extension": ".py",
      "mimetype": "text/x-python",
      "name": "python",
      "nbconvert_exporter": "python",
      "pygments_lexer": "ipython3",
      "version": "3.10.11"
    }
  },
  "nbformat": 4,
  "nbformat_minor": 0
}