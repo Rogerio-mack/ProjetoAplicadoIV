{
  "nbformat": 4,
  "nbformat_minor": 0,
  "metadata": {
    "kernelspec": {
      "display_name": "Python 3",
      "language": "python",
      "name": "python3"
    },
    "language_info": {
      "codemirror_mode": {
        "name": "ipython",
        "version": 3
      },
      "file_extension": ".py",
      "mimetype": "text/x-python",
      "name": "python",
      "nbconvert_exporter": "python",
      "pygments_lexer": "ipython3",
      "version": "3.7.4"
    },
    "colab": {
      "provenance": [],
      "include_colab_link": true
    }
  },
  "cells": [
    {
      "cell_type": "markdown",
      "metadata": {
        "id": "view-in-github",
        "colab_type": "text"
      },
      "source": [
        "<a href=\"https://colab.research.google.com/github/Rogerio-mack/ProjetoAplicadoIV/blob/main/Projeto_aplicado_IV.ipynb\" target=\"_parent\"><img src=\"https://colab.research.google.com/assets/colab-badge.svg\" alt=\"Open In Colab\"/></a>"
      ]
    },
    {
      "cell_type": "markdown",
      "source": [
        "  <img src=\"https://github.com/Rogerio-mack/GCF/raw/main/GCF_files/Mackenzie.jpg\" width=\"25%\" align=\"right\"/>\n",
        "\n",
        "  # **PROJETO APLICADO IV**\n",
        "\n",
        "  <br>\n",
        "  <br>\n",
        "\n",
        "---"
      ],
      "metadata": {
        "id": "VtAf7m4KdgYr"
      }
    },
    {
      "cell_type": "markdown",
      "metadata": {
        "id": "40b90843"
      },
      "source": [
        "# **Objetivo**\n",
        "\n",
        "Projeto temático e interdisciplinar. Em grupo de alunos de até 5 alunos, projetar, implementar e apresentar um projeto de ciência de dados para solução de um problema de um cliente, empresa, organização ou da sociedade que envolva **Séries Temporais e/ou IoT**.\n",
        "\n"
      ]
    },
    {
      "cell_type": "markdown",
      "source": [
        "# **Cronograma**\n",
        "\n",
        " <img src=\"https://github.com/Rogerio-mack/ProjetoAplicadoIV/blob/main/Plano_de_Entregas.png?raw=true\" width=\"100%\" align=\"right\"/>"
      ],
      "metadata": {
        "id": "H0vR7z4zNwnQ"
      }
    },
    {
      "cell_type": "markdown",
      "source": [
        "# **Recomendações**\n",
        "\n",
        "Algumas recomendações importantes que podem ajudar a nortear a escolha do projeto.\n",
        "\n",
        "1. **Dados atuais e problema relevante**. O projeto deve buscar resolver uma problema relevante. Ele deve resolver um problema real de uma empresa ou da sociedade e, portanto, você empregar dados atuais.\n",
        "\n",
        "2. **Empregue dados próprios**, isto é, evite empregar fontes de dados públicos de fontes secundárias e dados pré-processados como as bases do `Kaggle`. Procure empregar dados de empresas ou, se forem empregados dados públicos, empregue dados de fontes originais como sitos do governo (ibge, ipea, inpe, inep, info.dengue.mat.br etc.). Podem ser também obtidos dados a partir de API's de serviços. Dados de Séries Financeiras podem ser empregados, mas em especial, alertamos não ser recomendado o emprego de dados de bolsa, em especial de *day trade*, pela dificuldade de se obter boas análises e bons resultados.\n",
        "\n",
        "3. **Explore um ou mais algoritmos de Aprendizado de Máquina**. Embora a Ciência de Dados inclua análise exploratória, isso pode ser bastante limitado para tratar Séries Temporais e/ou dados IoT. O uso de algoritmos de Aprendizado de Máquina e/ou de Modelos Estatísticos são, portanto, recomendados para implementação do projeto podendo ser empregados para previsões, detecção de anomalias, geração automática de decisões (preços, recomendações etc.).\n",
        "\n",
        "4. **Referências**. Busque referências bibliográficas que amparem o seu trabalho. Um estudo semelhante, um projeto já realizado, podem constituir um ponto de partida e são parte obrigatória de um bom projeto.\n",
        "\n",
        "5. **Implementação 100% excutável**. O projeto deve ser 100% executável e reproduzível, sendo assim fornecido todo o necessário para sua execução (dados, códigos etc.). Evite assim, disponibilizar soluções proprietárias e, quando empregadas, indique soluções para acesso total ou parcial.\n",
        "\n",
        "6. **Texto e Apresentação**. A comunicação de um projeto é também essencial, não descuidem, portanto do texto e da apresentação."
      ],
      "metadata": {
        "id": "p9bCqOr9d6wg"
      }
    },
    {
      "cell_type": "markdown",
      "source": [
        "# **Entregas**\n",
        "\n"
      ],
      "metadata": {
        "id": "FsBslYTGdO71"
      }
    },
    {
      "cell_type": "markdown",
      "source": [
        "## **[1] Definição do projeto e equipe** **(10.03)**\n",
        "\n",
        "Checkpoint em: **06.03**\n",
        "\n",
        "### Entregáveis:\n",
        "\n",
        "* **Definição da Equipe**\n",
        "  \n",
        "  * Até 5 alunos\n",
        "\n",
        "* **Proposta do Projeto**\n",
        "\n",
        "  * **Título do Projeto**\n",
        "  * **Resumo**. *Um parágrafo no modelo de um abstract (resumo) de artigo, indicando o problema que o projeto se propõe a resolver, sua relevância e o tipo de metodologia (técnicas, algoritmos, métodos, produto gerado - previsão, detecção de anomalia etc.) que se pretende aplicar para a solução.*\n",
        "  * **Fonte dos Dados**. *Descrever sumariamente os dados e sua fonte (um parágrafo), incluindo no caso de fontes públicas o link. Dados privados, se já disponíveis, podem ser compartilhados em um endereço público.*\n",
        "  * **Referências**. *Indicar 2-3 referências, com ao menos uma bibliográfica, relacionadas ao problema/solução proposta. Quando cabível, indicar bibliotecas de software a serem empregadas (pacotes básicos, como `pandas` ou `matplotlib`, não precisam ser indicados).*\n",
        "\n",
        "### Critérios de Avaliação:\n",
        "\n",
        "* (25%) Relevância do tema. *Atualidade, importância*.\n",
        "\n",
        "* (25%) Fonte dos dados. *Complexidade, volume, originalidade, tratamento de dados real-time (streaming)*.\n",
        "\n",
        "* (25%) Metodologia proposta. *Adequação e viabilidade da solução proposta*.\n",
        "\n",
        "* (15%) Referências. *Qualidade e aderência das referências*.\n",
        "\n",
        "* (10%) Apresentação geral da atividade. *Texto, qualidade, clareza etc.*\n",
        "  \n",
        "\n",
        "\n",
        "\n",
        "\n",
        "\n",
        "\n",
        "\n"
      ],
      "metadata": {
        "id": "EQXhY7XtekUU"
      }
    },
    {
      "cell_type": "markdown",
      "source": [
        "## **[2] Justificativa, Referencial Teórico e Cronograma** **(07.04)**\n",
        "\n",
        "*15.04 Data limite para divulgação das notas/gabarito da Avaliação Intermediária 1.*\n",
        "\n",
        "Checkpoint em: **03.04**\n",
        "\n",
        "### Entregáveis:\n",
        "\n",
        "* **Introdução**. *(*máximo 1 página*) Apresente aqui um detalhamento maior do problema proposto. Busque justificar a importância e a relevância do problema do ponto de vista social, econômico e acadêmico-científico. Para isso pode útil fazer um retrospecto e trazer dados atualizados do cenário do problema. Apresente as dificuldades existentes para uma solução do problema ou limitações das soluções atuais. Descreva resumidamente a abordagem proposta e as contribuições que o seu projeto deve gerar (previsões, produtos de software, análises etc.). Indique referências ao longo do texto.*\n",
        "\n",
        "* **Referencial Teórico**. *(*máximo 1 página*) Discuta aqui trabalhos correlacionados. Busque apresentar alternativas de solução que foram empregadas no mesmo problema ou problemas semelhantes, e suas vantagens e limitações. Defina resumidamente os principais conceitos envolvidos na sua solução. Indique referências ao longo do texto.*\n",
        "\n",
        "* **Diagrama de Solução**.*Apresente e discuta um diagrama da solução proposta.*\n",
        "\n",
        "* **Cronograma**. *Apresente um cronograma detalhado das entregas do seu projeto que contemple as datas de entrega das atividades.*\n",
        "\n",
        "### Critérios de Avaliação:\n",
        "\n",
        "* (25%) Introdução. *Texto claro, atendendo o conteúdo e tamanho propostos*.\n",
        "\n",
        "* (25%) Referencial Teórico. *Texto claro, atendendo o conteúdo e tamanho propostos. Qualidade e atualidade das referências. Apresentação correta dos conceitos envolvidos*.\n",
        "\n",
        "* (30%) Diagrama de solução. *Viabilidade e clareza da solução inicial proposta.*\n",
        "* (20%) Cronograma. *Viabilidade, detalhamento e clareza das tarefas e prazos propostos.*"
      ],
      "metadata": {
        "id": "c2KTdZu0ewd8"
      }
    },
    {
      "cell_type": "markdown",
      "source": [
        "## **[3] Implementação Parcial I** **(05.05)**\n",
        "\n",
        "Checkpoint em: **24.04**\n",
        "\n",
        "### Entregáveis:\n",
        "\n",
        "* **Notebook do Projeto**. *Seguindo o template fornecido. Deve conter o texto do projeto e principais códigos, sendo 100% executável e reproduzível.*\n",
        "\n",
        "* **EDA e Pré-processamento dos dados**. *Exploração e análise inicial dos dados. Discussão e análise dos dados empregados (qualidade, limitações, simplicações ou recortes adotados etc.). Tarefas de preparação dos dados (transformações, compactação e encodes, junções de dados etc.)*.\n",
        "\n",
        "* **Modelo base**. *Aplicação de ao menos um primeiro modelo base (modelo de aprendizado de máquina ou modelo estatístico) que deve ser refinado até a entrega final do projeto. Apresente o método aplicado e a análise dos  resultados obtidos*.\n",
        "\n",
        "* **Cronograma atualizado**. *Foco nas atividades faltantes e revisão das tarefas*.\n",
        "\n",
        "* **Diagrama de solução atualizado**. *Revisão da solução quando necessário*.\n",
        "\n",
        "### Critérios de Avaliação:\n",
        "\n",
        "* (40%) EDA e Pré-processamento dos dados. *Adequação dos métodos empregados; variedade e seleção das técnicas empregadas; resultados apresentados*.\n",
        "\n",
        "* (20%) Modelo base. *Adequação do método proposto; métricas aplicadas; resultados parciais obtidos*.\n",
        "\n",
        "* (20%) Revisão. *Avanço de acordo com o cronograma; identificação de problemas e revisão da solução e tarefas*.\n",
        "\n",
        "* (20%) Apresentação geral da entrega. *Qualidade do texto, código e apresentação.*"
      ],
      "metadata": {
        "id": "_lEH50wge4rU"
      }
    },
    {
      "cell_type": "markdown",
      "source": [
        "## **[4] Implementação e Entrega Final** **(29.05 e 30.05)**\n",
        "\n",
        "*03.06 Data limite para divulgação das notas/gabarito da Avaliação Intermediária 2.*\n",
        "\n",
        "### Entregáveis:\n",
        "\n",
        "* **GitHub do Projeto**. *GitHub com todos os artefatos e documentos do projeto.Recomenda-se criar uma organização no GitHub, evitando-se assim o uso de uma única conta pessoal. Códigos do projeto incluindo notebooks e outros tipos de código, dados (quando volume superior ao permitido no GitHub, disponibilizar em um Drive público), documentação do projeto (texto do trabalho, vídeos, artigo), readme de apresentação etc.*\n",
        "\n",
        "* **Vídeo de Apresentação do Projeto**. *3-5min. Apresentação do problema, justificativa, trabalhos relacionados, métodos empregados e principais resultados.*\n",
        "\n",
        "* **Vídeo de Apresentação da Solução Técnica**. *3-5min. Apresentação da solução técnica. Apresentação e discussão dos métodos, diferenciais técnicos da solução, execuções e simulações, principais desafios (dificuldades encontradas) e potenciais melhorias da solução.*\n",
        "  \n",
        "* **Notebook do Projeto**. *Seguindo o template fornecido. Deve conter o texto do projeto e principais códigos, sendo 100% executável e reproduzível.*\n",
        "\n",
        "* **Artigo no formato SBC**. Faça um resumo do trabalho no formato de um artigo SBC. [Templates SBC](https://www.sbc.org.br/documentos-da-sbc/category/169-templates-para-artigos-e-capitulos-de-livros)\n",
        "\n",
        "### Critérios de Avaliação:\n",
        "\n",
        "* (10%) Problema. *Atualidade e importância; complexidade; adequação dos dados para a solução do problema proposto.*.\n",
        "\n",
        "* (30%) Metodologia empregada. *Adequação dos métodos; variedade e seleção das técnicas empregadas; métricas aplicadas; embasamento e diferencial com relação a trabalhos relacionados; resultados obtidos*.\n",
        "\n",
        "* (20%) Resultados. Apresente aqui um resumo dos resultados obtidos, como métricas, tabelas comparativas etc.\n",
        "\n",
        "* (20%) Artigo. *Adequação dos métodos; variedade e seleção das técnicas empregadas; métricas aplicadas; embasamento e diferencial com relação a trabalhos relacionados; resultados obtidos*.\n",
        "\n",
        "* (10%) Conclusões. *Conclusões; análise crítica do trabalho (suas qualidades e limitações); alcance do objetivo inicial (a solução do problema); potenciais melhorias no projeto*.\n",
        "\n",
        "* (10%) Apresentação geral da entrega. *Qualidade do texto, código e apresentações.*\n",
        "\n",
        "* (*) Avaliação dos pares.\n",
        "  \n",
        "\n"
      ],
      "metadata": {
        "id": "XAyabtZxfEpL"
      }
    },
    {
      "cell_type": "markdown",
      "source": [
        "# **Templates**\n",
        "\n",
        "> [Template Entrega 1](https://colab.research.google.com/github/Rogerio-mack/ProjetoAplicadoIV/blob/main/Projeto_aplicado_IV_entrega_1.ipynb)\n",
        "\n",
        "> [Template Entrega 2](https://colab.research.google.com/github/Rogerio-mack/ProjetoAplicadoIV/blob/main/Projeto_aplicado_IV_entrega_1.ipynb)\n",
        "\n",
        "> [Template Entrega 3](https://colab.research.google.com/github/Rogerio-mack/ProjetoAplicadoIV/blob/main/Projeto_aplicado_IV_entrega_1.ipynb)\n",
        "\n",
        "> [Template Entrega 4](https://colab.research.google.com/github/Rogerio-mack/ProjetoAplicadoIV/blob/main/Projeto_aplicado_IV_entrega_1.ipynb)\n",
        "\n",
        "> [Templates SBC](https://www.sbc.org.br/documentos-da-sbc/category/169-templates-para-artigos-e-capitulos-de-livros)\n"
      ],
      "metadata": {
        "id": "nUByghklOYHo"
      }
    }
  ]
}